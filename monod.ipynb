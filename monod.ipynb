{
 "cells": [
  {
   "cell_type": "markdown",
   "metadata": {},
   "source": [
    "## Model simuleren: Monod model"
   ]
  },
  {
   "cell_type": "markdown",
   "metadata": {},
   "source": [
    "$$\\frac{dX}{dt}= \\mu_{max}\\frac{S}{K_{S}+S}X - \\frac{Q}{V}X$$\n",
    "\n",
    "$$\\frac{dS}{dt}= -\\frac{1}{Y} \\mu_{max}\\frac{S}{K_{S}+S}X + \\frac{Q}{V}(S_{in} - S)$$"
   ]
  },
  {
   "cell_type": "code",
   "execution_count": null,
   "metadata": {},
   "outputs": [],
   "source": [
    "%matplotlib inline\n",
    "\n",
    "# Importeren van functionaliteiten\n",
    "import numpy as np\n",
    "import scipy as sp\n",
    "import pandas as pd\n",
    "import math\n",
    "from IPython.display import Image\n",
    "from ipywidgets import interact, fixed, FloatSlider, IntSlider, ToggleButtons\n",
    "\n",
    "%load_ext autoreload\n",
    "%autoreload 1\n",
    "import sys\n",
    "import os\n",
    "sys.path.append(\"functions\")\n",
    "%aimport general_functions\n"
   ]
  },
  {
   "cell_type": "code",
   "execution_count": null,
   "metadata": {},
   "outputs": [],
   "source": [
    "%aimport monod\n",
    "functie_afgeleiden = monod.model_afgeleiden"
   ]
  },
  {
   "cell_type": "markdown",
   "metadata": {
    "heading_collapsed": true
   },
   "source": [
    "## Model simuleren"
   ]
  },
  {
   "cell_type": "code",
   "execution_count": null,
   "metadata": {
    "hidden": true
   },
   "outputs": [],
   "source": [
    "df = general_functions.model(\n",
    "    np.arange(0, 100, 1), # tijdstappen\n",
    "    [0.00005, 0.02], # initiële condities\n",
    "    ['X','S'], # namen variabelen\n",
    "    functie_afgeleiden, # naam functie afgeleiden\n",
    "    returnDataFrame=True, plotresults=True,\n",
    "    # vanaf hier: functie specifieke parameters\n",
    "    mu_max=0.3, Q=2, V=20, Y=0.67, K_S=0.01, S_in=0.02)"
   ]
  },
  {
   "cell_type": "markdown",
   "metadata": {
    "hidden": true
   },
   "source": [
    "$$\\frac{dX}{dt}= \\mu_{max}\\frac{S}{K_{S}+S}X - \\frac{Q}{V}X$$\n",
    "\n",
    "$$\\frac{dS}{dt}= -\\frac{1}{Y} \\mu_{max}\\frac{S}{K_{S}+S}X + \\frac{Q}{V}(S_{in} - S)$$"
   ]
  },
  {
   "cell_type": "markdown",
   "metadata": {
    "heading_collapsed": true
   },
   "source": [
    "## Impact initiële conditie"
   ]
  },
  {
   "cell_type": "code",
   "execution_count": null,
   "metadata": {
    "hidden": true
   },
   "outputs": [],
   "source": [
    "def interactive_model(logX, logS):\n",
    "    general_functions.model(\n",
    "        np.arange(0, 100, 1), # tijdstappen\n",
    "        [10**logX, 10**logS], # initiële condities\n",
    "        ['X','S'], # namen variabelen\n",
    "        functie_afgeleiden, # naam functie afgeleiden\n",
    "        returnDataFrame=True, plotresults=True,\n",
    "        # vanaf hier: functie specifieke parameters\n",
    "        mu_max=0.3, Q=2, V=20, Y=0.67, K_S=0.01, S_in=0.02)"
   ]
  },
  {
   "cell_type": "code",
   "execution_count": null,
   "metadata": {
    "hidden": true
   },
   "outputs": [],
   "source": [
    "interact(interactive_model,\n",
    "         logX=IntSlider(value=-3, min=-6, max=1, step=1, description='log(X)', continuous_update=False),\n",
    "         logS=IntSlider(value=-3, min=-6, max=1, step=1, description='log(S)', continuous_update=False))"
   ]
  },
  {
   "cell_type": "markdown",
   "metadata": {
    "hidden": true
   },
   "source": [
    "$$\\frac{dX}{dt}= \\mu_{max}\\frac{S}{K_{S}+S}X - \\frac{Q}{V}X$$\n",
    "\n",
    "$$\\frac{dS}{dt}= -\\frac{1}{Y} \\mu_{max}\\frac{S}{K_{S}+S}X + \\frac{Q}{V}(S_{in} - S)$$"
   ]
  },
  {
   "cell_type": "markdown",
   "metadata": {
    "heading_collapsed": true
   },
   "source": [
    "## Impact parameters (deel 1)"
   ]
  },
  {
   "cell_type": "code",
   "execution_count": null,
   "metadata": {
    "hidden": true
   },
   "outputs": [],
   "source": [
    "interact(general_functions.model,\n",
    "         tijdstappen=fixed(np.arange(0, 100, 1)), # tijdstappen\n",
    "         init=fixed([0.00005, 0.02]), # initiële condities\n",
    "         varnames=fixed(['X','S']), # namen variabelen\n",
    "         f=fixed(functie_afgeleiden), # naam functie afgeleiden\n",
    "         returnDataFrame=fixed(False), plotresults=fixed(True),\n",
    "         # vanaf hier: functie specifieke parameters\n",
    "         mu_max=FloatSlider(value=0.3, min=0.01, max=2, step=0.01, description='mu_max', continuous_update=False),\n",
    "         Q=fixed(2), V=fixed(20),\n",
    "         Y=FloatSlider(value=0.67, min=0.1, max=1, step=0.01, description='Y', continuous_update=False),\n",
    "         K_S=FloatSlider(value=0.01, min=0.001, max=0.02, step=0.001, description='K_s', continuous_update=False), \n",
    "         S_in=fixed(2e-2))"
   ]
  },
  {
   "cell_type": "markdown",
   "metadata": {
    "hidden": true
   },
   "source": [
    "$$\\frac{dX}{dt}= \\mu_{max}\\frac{S}{K_{S}+S}X - \\frac{Q}{V}X$$\n",
    "\n",
    "$$\\frac{dS}{dt}= -\\frac{1}{Y} \\mu_{max}\\frac{S}{K_{S}+S}X + \\frac{Q}{V}(S_{in} - S)$$"
   ]
  },
  {
   "cell_type": "markdown",
   "metadata": {
    "heading_collapsed": true
   },
   "source": [
    "## Impact parameters (deel 2)"
   ]
  },
  {
   "cell_type": "code",
   "execution_count": null,
   "metadata": {
    "hidden": true
   },
   "outputs": [],
   "source": [
    "interact(general_functions.model,\n",
    "         tijdstappen=fixed(np.arange(0, 100, 1)), # tijdstappen\n",
    "         init=fixed([0.00005, 0.02]), # initiële condities\n",
    "         varnames=fixed(['X','S']), # namen variabelen\n",
    "         f=fixed(functie_afgeleiden), # naam functie afgeleiden\n",
    "         returnDataFrame=fixed(False), plotresults=fixed(True),\n",
    "         # vanaf hier: functie specifieke parameters\n",
    "         mu_max=fixed(0.3),\n",
    "         Q=FloatSlider(value=2, min=.1, max=5, step=0.1, description='Q', continuous_update=False),\n",
    "         V=FloatSlider(value=20, min=1, max=50, step=1, description='V', continuous_update=False),\n",
    "         Y=fixed(0.67), K_S=fixed(0.01), \n",
    "         S_in=FloatSlider(value=0.02, min=0.001, max=0.1, step=0.001, description='S_in', continuous_update=False))"
   ]
  },
  {
   "cell_type": "markdown",
   "metadata": {
    "hidden": true
   },
   "source": [
    "$$\\frac{dX}{dt}= \\mu_{max}\\frac{S}{K_{S}+S}X - \\frac{Q}{V}X$$\n",
    "\n",
    "$$\\frac{dS}{dt}= -\\frac{1}{Y} \\mu_{max}\\frac{S}{K_{S}+S}X + \\frac{Q}{V}(S_{in} - S)$$"
   ]
  },
  {
   "cell_type": "markdown",
   "metadata": {
    "heading_collapsed": true
   },
   "source": [
    "# Sensitiviteit"
   ]
  },
  {
   "cell_type": "code",
   "execution_count": null,
   "metadata": {
    "hidden": true
   },
   "outputs": [],
   "source": [
    "interact(general_functions.sensitiviteit,\n",
    "    tijdstappen=fixed(np.arange(0, 100, 1)), # tijdstappen\n",
    "    init=fixed([0.00005, 0.02]), # initiële condities\n",
    "    varnames=fixed(['X','S']), # namen variabelen\n",
    "    f=fixed(functie_afgeleiden), # naam functie afgeleiden\n",
    "    parameternaam=ToggleButtons(options=['mu_max', 'Q', 'V', 'Y', 'K_S', 'S_in']),\n",
    "    log_perturbatie = IntSlider(value=-4, min=-15, max=-1, step=1, continuous_update=False),\n",
    "    soort=ToggleButtons(options=[\n",
    "            'absolute sensitiviteit', 'relatieve sensitiviteit parameter',\n",
    "            'relatieve sensitiviteit variabele','relatieve totale sensitiviteit']),\n",
    "    # vanaf hier: functie specifieke parameters\n",
    "    mu_max=fixed(0.3), Q=fixed(2), V=fixed(20), Y=fixed(0.67),\n",
    "    K_S=fixed(0.01), S_in=fixed(0.02))"
   ]
  },
  {
   "cell_type": "markdown",
   "metadata": {},
   "source": [
    "# Calibratie"
   ]
  },
  {
   "cell_type": "code",
   "execution_count": null,
   "metadata": {},
   "outputs": [],
   "source": [
    "model_name = \"monod\"\n",
    "with open(os.path.join(os.curdir, \"data\", model_name+\"_functioncall.txt\"), \"r\") as text_file:\n",
    "    print(text_file.read())"
   ]
  },
  {
   "cell_type": "code",
   "execution_count": null,
   "metadata": {},
   "outputs": [],
   "source": [
    "noise_level = 0.1\n",
    "thepath = os.path.join(os.curdir, \"data\", model_name+\"_data_noisy_{}.csv\".format(noise_level))\n",
    "df_noisy = pd.read_csv(thepath, index_col=0)"
   ]
  },
  {
   "cell_type": "code",
   "execution_count": null,
   "metadata": {},
   "outputs": [],
   "source": [
    "def sim_model(args):\n",
    "    mu_max, K_S = args\n",
    "    sim = general_functions.model(\n",
    "    np.arange(0, 100, 1), # tijdstappen\n",
    "    [0.00005, 0.02], # initiële condities\n",
    "    ['X','S'], # namen variabelen\n",
    "    functie_afgeleiden, # naam functie afgeleiden\n",
    "    returnDataFrame=True, plotresults=False,\n",
    "    # vanaf hier: functie specifieke parameters\n",
    "    mu_max=mu_max, Q=2, V=20, Y=0.67, K_S=K_S, S_in=0.02)\n",
    "    return sim\n",
    "\n",
    "def optimizer(args, obj_func=general_functions.sse, data=df_noisy):\n",
    "    sim = sim_model(args)\n",
    "    return obj_func(sim, data)"
   ]
  },
  {
   "cell_type": "code",
   "execution_count": null,
   "metadata": {
    "scrolled": false
   },
   "outputs": [],
   "source": [
    "x0 = [1, 1]\n",
    "parameters,results = general_functions.track_calib(optimizer,\n",
    "    x0, param_names=['mu_max', 'K_S'], method='Nelder-Mead')\n",
    "interact(general_functions.plot_calib,\n",
    "         parameters=fixed(parameters), results=fixed(results),\n",
    "         i=IntSlider(value=0, min=0, max=parameters.shape[0]-1, step=1, continuous_update=False),\n",
    "         data=fixed(df_noisy), sim_model=fixed(sim_model))\n",
    "#general_functions.plot_calib(parameters, results, parameters.shape[0]-1, df_noisy)"
   ]
  },
  {
   "cell_type": "code",
   "execution_count": null,
   "metadata": {},
   "outputs": [],
   "source": [
    "general_functions.plot_contour_monod(optimizer)"
   ]
  },
  {
   "cell_type": "code",
   "execution_count": null,
   "metadata": {},
   "outputs": [],
   "source": []
  }
 ],
 "metadata": {
  "anaconda-cloud": {},
  "kernelspec": {
   "display_name": "Python [conda env:py35]",
   "language": "python",
   "name": "conda-env-py35-py"
  },
  "language_info": {
   "codemirror_mode": {
    "name": "ipython",
    "version": 3
   },
   "file_extension": ".py",
   "mimetype": "text/x-python",
   "name": "python",
   "nbconvert_exporter": "python",
   "pygments_lexer": "ipython3",
   "version": "3.5.1"
  },
  "widgets": {
   "state": {
    "49fe4396f2b44141b31f5fb27f2298f1": {
     "views": [
      {
       "cell_index": 18
      }
     ]
    },
    "61593e207b0f4eba8a606e305d47c673": {
     "views": [
      {
       "cell_index": 24
      }
     ]
    },
    "a038802db23d465da7c6af922b869868": {
     "views": [
      {
       "cell_index": 9
      }
     ]
    },
    "b4befd08697643898472ad7369d8b0a1": {
     "views": [
      {
       "cell_index": 15
      }
     ]
    },
    "cfd0d3fcc11d4a2ca1645a4c3f23b11a": {
     "views": [
      {
       "cell_index": 12
      }
     ]
    }
   },
   "version": "1.2.0"
  }
 },
 "nbformat": 4,
 "nbformat_minor": 1
}
