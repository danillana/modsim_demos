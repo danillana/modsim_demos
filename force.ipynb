{
 "cells": [
  {
   "cell_type": "markdown",
   "metadata": {},
   "source": [
    "## Model simuleren: Krachtenbalans"
   ]
  },
  {
   "cell_type": "markdown",
   "metadata": {},
   "source": [
    "$$\\frac{dx1}{dt}= x2$$\n",
    "\n",
    "$$\\frac{dx2}{dt}= -\\frac{b}{m}x2 -\\frac{k}{m}x1 + Fex$$"
   ]
  },
  {
   "cell_type": "code",
   "execution_count": null,
   "metadata": {
    "ExecuteTime": {
     "end_time": "2019-02-13T11:19:47.294198Z",
     "start_time": "2019-02-13T11:19:45.500751Z"
    }
   },
   "outputs": [],
   "source": [
    "%matplotlib inline\n",
    "\n",
    "# Importeren van functionaliteiten\n",
    "import numpy as np\n",
    "import scipy as sp\n",
    "import pandas as pd\n",
    "import math\n",
    "from IPython.display import Image\n",
    "from ipywidgets import interact, fixed, FloatSlider, IntSlider, ToggleButtons\n",
    "\n",
    "%load_ext autoreload\n",
    "%autoreload 1\n",
    "import sys\n",
    "import os\n",
    "sys.path.append(\"functions\")\n",
    "%aimport general_functions\n"
   ]
  },
  {
   "cell_type": "code",
   "execution_count": null,
   "metadata": {
    "ExecuteTime": {
     "end_time": "2019-02-13T11:19:47.324617Z",
     "start_time": "2019-02-13T11:19:47.307112Z"
    }
   },
   "outputs": [],
   "source": [
    "%aimport force\n",
    "functie_afgeleiden = force.model_afgeleiden"
   ]
  },
  {
   "cell_type": "markdown",
   "metadata": {},
   "source": [
    "## Model simuleren"
   ]
  },
  {
   "cell_type": "code",
   "execution_count": null,
   "metadata": {
    "ExecuteTime": {
     "end_time": "2019-02-13T11:19:47.766603Z",
     "start_time": "2019-02-13T11:19:47.336021Z"
    }
   },
   "outputs": [],
   "source": [
    "df = general_functions.model(\n",
    "    np.arange(0, 50, 0.1), # tijdstappen\n",
    "    [-1, 0], # initiële condities\n",
    "    ['x1','x2'], # namen variabelen\n",
    "    functie_afgeleiden, # naam functie afgeleiden\n",
    "    returnDataFrame=True, plotresults=True,\n",
    "    # vanaf hier: functie specifieke parameters\n",
    "    b=0.2, m=1, k=0.3, Fex=0.)"
   ]
  },
  {
   "cell_type": "markdown",
   "metadata": {},
   "source": [
    "$$\\frac{dx1}{dt}= x2$$\n",
    "\n",
    "$$\\frac{dx2}{dt}= -\\frac{b}{m}x2 -\\frac{k}{m}x1 + Fex$$"
   ]
  },
  {
   "cell_type": "markdown",
   "metadata": {},
   "source": [
    "## Impact initiële conditie en input"
   ]
  },
  {
   "cell_type": "code",
   "execution_count": null,
   "metadata": {},
   "outputs": [],
   "source": [
    "def interactive_model(x1, x2):\n",
    "    general_functions.model(\n",
    "        np.arange(0, 50, 0.1), # tijdstappen\n",
    "        [x1, x2], # initiële condities\n",
    "        ['x1','x2'], # namen variabelen\n",
    "        functie_afgeleiden, # naam functie afgeleiden\n",
    "        returnDataFrame=False, plotresults=True,\n",
    "        # vanaf hier: functie specifieke parameters\n",
    "        b=0.2, m=1, k=0.3, Fex=0.)"
   ]
  },
  {
   "cell_type": "code",
   "execution_count": null,
   "metadata": {},
   "outputs": [],
   "source": [
    "interact(interactive_model,\n",
    "         x1=FloatSlider(value=-5, min=-10, max=10, step=1, description='x1', continuous_update=False),\n",
    "         x2=FloatSlider(value=-5, min=-10, max=10, step=1, description='x1', continuous_update=False))"
   ]
  },
  {
   "cell_type": "markdown",
   "metadata": {},
   "source": [
    "$$\\frac{dx1}{dt}= x2$$\n",
    "\n",
    "$$\\frac{dx2}{dt}= -\\frac{b}{m}x2 -\\frac{k}{m}x1 + Fex$$"
   ]
  },
  {
   "cell_type": "markdown",
   "metadata": {},
   "source": [
    "## Impact parameters"
   ]
  },
  {
   "cell_type": "code",
   "execution_count": null,
   "metadata": {},
   "outputs": [],
   "source": [
    "interact(general_functions.model,\n",
    "         tijdstappen=fixed(np.arange(0., 50, 0.1)),\n",
    "         init=fixed([-1, 0]), varnames=fixed(['x1','x2']),\n",
    "         f=fixed(functie_afgeleiden),\n",
    "         returnDataFrame=fixed(False), plotresults=fixed(True),\n",
    "         b=FloatSlider(value=0.1, min=0., max=0.5, step=0.01, name='b', continuous_update=False),\n",
    "         m=FloatSlider(value=2, min=0., max=5., step=0.1, name='m', continuous_update=False),\n",
    "         k=FloatSlider(value=0.5, min=0., max=1., step=0.1, name='k', continuous_update=False),\n",
    "         Fex=fixed(0))"
   ]
  },
  {
   "cell_type": "markdown",
   "metadata": {},
   "source": [
    "$$\\frac{dx1}{dt}= x2$$\n",
    "\n",
    "$$\\frac{dx2}{dt}= -\\frac{b}{m}x2 -\\frac{k}{m}x1 + Fex$$"
   ]
  },
  {
   "cell_type": "markdown",
   "metadata": {},
   "source": [
    "# sensitiviteit"
   ]
  },
  {
   "cell_type": "code",
   "execution_count": null,
   "metadata": {},
   "outputs": [],
   "source": [
    "interact(general_functions.sensitiviteit,\n",
    "    tijdstappen=fixed(np.arange(0, 50, 0.1)), # tijdstappen\n",
    "    init = fixed([-1, 0]), # initiële condities\n",
    "    varnames = fixed(['x1','x2']), # namen variabelen\n",
    "    f = fixed(functie_afgeleiden), # naam functie afgeleiden\n",
    "    parameternaam=ToggleButtons(options=['b', 'm', 'k', 'Fex']),\n",
    "    log_perturbatie = IntSlider(value=-4, min=-15, max=-1, step=1, continuous_update=False),\n",
    "    soort=ToggleButtons(options=[\n",
    "            'absolute sensitiviteit', 'relatieve sensitiviteit parameter',\n",
    "            'relatieve sensitiviteit variabele','relatieve totale sensitiviteit']),\n",
    "    # vanaf hier: functie specifieke parameters\n",
    "    b=fixed(0.2), m=fixed(1), k=fixed(0.3), Fex=fixed(0.))"
   ]
  },
  {
   "cell_type": "markdown",
   "metadata": {},
   "source": [
    "# Calibratie"
   ]
  },
  {
   "cell_type": "code",
   "execution_count": null,
   "metadata": {},
   "outputs": [],
   "source": [
    "model_name = \"force\"\n",
    "with open(os.path.join(os.curdir, \"data\", model_name+\"_functioncall.txt\"), \"r\") as text_file:\n",
    "    print(text_file.read())"
   ]
  },
  {
   "cell_type": "code",
   "execution_count": null,
   "metadata": {},
   "outputs": [],
   "source": [
    "noise_level = 0.5\n",
    "thepath = os.path.join(os.curdir, \"data\", model_name+\"_data_noisy_{}.csv\".format(noise_level))\n",
    "df_noisy = pd.read_csv(thepath, index_col=0)"
   ]
  },
  {
   "cell_type": "code",
   "execution_count": null,
   "metadata": {},
   "outputs": [],
   "source": [
    "def sim_model(args):\n",
    "    b, k = args\n",
    "    sim = general_functions.model(\n",
    "        np.arange(0, 50, 0.5), # tijdstappen\n",
    "        [-1, 0], # initiële condities\n",
    "        ['x1','x2'], # namen variabelen\n",
    "        functie_afgeleiden, # naam functie afgeleiden\n",
    "        returnDataFrame=True, plotresults=False,\n",
    "        # vanaf hier: functie specifieke parameters\n",
    "        b=b, m=1., k=k, Fex=0.)\n",
    "    return sim\n",
    "\n",
    "def optimizer(args, obj_func=general_functions.sse, data=df_noisy):\n",
    "    sim = sim_model(args)\n",
    "    return obj_func(sim, data)"
   ]
  },
  {
   "cell_type": "code",
   "execution_count": null,
   "metadata": {
    "scrolled": false
   },
   "outputs": [],
   "source": [
    "x0 = [.3, .2]\n",
    "parameters,results = general_functions.track_calib(optimizer,\n",
    "    x0, param_names=['b', 'k'], method='Nelder-Mead', tol=1e-4)\n",
    "interact(general_functions.plot_calib,\n",
    "         parameters=fixed(parameters), results=fixed(results),\n",
    "         i=IntSlider(value=0, min=0, max=parameters.shape[0]-1, step=1, continuous_update=False),\n",
    "         data=fixed(df_noisy), sim_model=fixed(sim_model))\n",
    "#general_functions.plot_calib(parameters, results, parameters.shape[0]-1, df_noisy)"
   ]
  },
  {
   "cell_type": "code",
   "execution_count": null,
   "metadata": {},
   "outputs": [],
   "source": [
    "general_functions.plot_contour_force(optimizer)"
   ]
  },
  {
   "cell_type": "code",
   "execution_count": null,
   "metadata": {},
   "outputs": [],
   "source": []
  }
 ],
 "metadata": {
  "anaconda-cloud": {},
  "kernelspec": {
   "display_name": "py35",
   "language": "python",
   "name": "py35"
  },
  "language_info": {
   "codemirror_mode": {
    "name": "ipython",
    "version": 3
   },
   "file_extension": ".py",
   "mimetype": "text/x-python",
   "name": "python",
   "nbconvert_exporter": "python",
   "pygments_lexer": "ipython3",
   "version": "3.5.1"
  },
  "varInspector": {
   "cols": {
    "lenName": 16,
    "lenType": 16,
    "lenVar": 40
   },
   "kernels_config": {
    "python": {
     "delete_cmd_postfix": "",
     "delete_cmd_prefix": "del ",
     "library": "var_list.py",
     "varRefreshCmd": "print(var_dic_list())"
    },
    "r": {
     "delete_cmd_postfix": ") ",
     "delete_cmd_prefix": "rm(",
     "library": "var_list.r",
     "varRefreshCmd": "cat(var_dic_list()) "
    }
   },
   "types_to_exclude": [
    "module",
    "function",
    "builtin_function_or_method",
    "instance",
    "_Feature"
   ],
   "window_display": true
  },
  "widgets": {
   "state": {
    "57e81818a56e426e8f5cf9cf8f648f3f": {
     "views": [
      {
       "cell_index": 12
      }
     ]
    },
    "608101f5c4604bec93ddb0c0dbb90c02": {
     "views": [
      {
       "cell_index": 9
      }
     ]
    },
    "738e4372e6264a0a857a359b6c581650": {
     "views": [
      {
       "cell_index": 15
      }
     ]
    },
    "989dcdc758844df69d1874aeb120f555": {
     "views": [
      {
       "cell_index": 21
      }
     ]
    }
   },
   "version": "1.2.0"
  }
 },
 "nbformat": 4,
 "nbformat_minor": 1
}
