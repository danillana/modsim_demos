{
 "cells": [
  {
   "cell_type": "markdown",
   "metadata": {},
   "source": [
    "## Model simuleren: heat model"
   ]
  },
  {
   "cell_type": "markdown",
   "metadata": {},
   "source": [
    "$$\\frac{d[N2O5]}{dt}= -2Are^{\\frac{-E_{A}}{RT}}[N2O5] + \\frac{Q}{V}({[N2O5]}_{in} - [N2O5])$$\n",
    "$$\\frac{d[N2O4]}{dt}= 2Are^{\\frac{-E_{A}}{RT}}[N2O5]+ \\frac{Q}{V}({[N2O4]}_{in} - [N2O4])$$\n",
    "$$\\frac{d[T]}{dt}= \\frac{Q \\rho C_{p}(T{in}-T)+UA(T_{w}-T)-VAre^{\\frac{-E_{A}}{RT}}[N2O5]\\Delta_{r}H}{V \\rho C_{p}}$$"
   ]
  },
  {
   "cell_type": "code",
   "execution_count": null,
   "metadata": {},
   "outputs": [],
   "source": [
    "%matplotlib inline\n",
    "\n",
    "# Importeren van functionaliteiten\n",
    "import numpy as np\n",
    "import scipy as sp\n",
    "import pandas as pd\n",
    "import math\n",
    "from IPython.display import Image\n",
    "from ipywidgets import interact, fixed, FloatSlider, IntSlider, ToggleButtons\n",
    "\n",
    "%load_ext autoreload\n",
    "%autoreload 1\n",
    "import sys\n",
    "import os\n",
    "sys.path.append(\"functions\")\n",
    "%aimport general_functions\n"
   ]
  },
  {
   "cell_type": "code",
   "execution_count": null,
   "metadata": {},
   "outputs": [],
   "source": [
    "%aimport heat\n",
    "functie_afgeleiden = heat.model_afgeleiden"
   ]
  },
  {
   "cell_type": "markdown",
   "metadata": {},
   "source": [
    "## Model simuleren"
   ]
  },
  {
   "cell_type": "code",
   "execution_count": null,
   "metadata": {},
   "outputs": [],
   "source": [
    "df = general_functions.model(\n",
    "    np.arange(0, 300, 1), # tijdstappen\n",
    "    [ 0, 0, 310], # initiële condities\n",
    "    ['N2O5','N2O4','T'], # namen variabelen\n",
    "    functie_afgeleiden, # naam functie afgeleiden\n",
    "    returnDataFrame=True, plotresults=True,\n",
    "    # vanaf hier: functie specifieke parameters\n",
    "    Ar=1.54e13, Ea=100320, Q=0.5, V=100, rho=0.79,\n",
    "    Cp=52.82, U=250, A=2, delta_rH=-6000,\n",
    "    N2O5_in=0.02, N2O4_in=0, Tin=250, Tw=330)"
   ]
  },
  {
   "cell_type": "markdown",
   "metadata": {},
   "source": [
    "$$\\frac{d[N2O5]}{dt}= -2Are^{\\frac{-E_{A}}{RT}}[N2O5] + \\frac{Q}{V}({[N2O5]}_{in} - [N2O5])$$\n",
    "$$\\frac{d[N2O4]}{dt}= 2Are^{\\frac{-E_{A}}{RT}}[N2O5]+ \\frac{Q}{V}({[N2O4]}_{in} - [N2O4])$$\n",
    "$$\\frac{d[T]}{dt}= \\frac{Q \\rho C_{p}(T{in}-T)+UA(T_{w}-T)-VAre^{\\frac{-E_{A}}{RT}}[N2O5]\\Delta_{r}H}{V \\rho C_{p}}$$"
   ]
  },
  {
   "cell_type": "markdown",
   "metadata": {},
   "source": [
    "## Impact parameters"
   ]
  },
  {
   "cell_type": "code",
   "execution_count": null,
   "metadata": {},
   "outputs": [],
   "source": [
    "interact(general_functions.model,\n",
    "         tijdstappen=fixed(np.arange(0, 300, 1)),\n",
    "         init=fixed([ 0, 0, 310]), varnames=fixed(['N2O5','N2O4','T']),\n",
    "         f=fixed(functie_afgeleiden),\n",
    "         returnDataFrame=fixed(False), plotresults=fixed(True),\n",
    "         Ar=fixed(1.54e13), Ea=fixed(100320),\n",
    "         rho=fixed(0.79), Cp=fixed(52.82),N2O5_in=fixed(0.02), N2O4_in=fixed(0),\n",
    "         Q=FloatSlider(value=2.5, min=0, max=5, step=.5, name='Q', continuous_update=False),\n",
    "         V=FloatSlider(value=500, min=0, max=1000, step=10, name='V', continuous_update=False),\n",
    "         U=FloatSlider(value=250, min=200, max=300, step=10, name='U', continuous_update=False),\n",
    "         A=FloatSlider(value=5, min=0, max=10, step=1, name='A', continuous_update=False),\n",
    "         delta_rH=FloatSlider(value=0, min=-10000, max=10000, step=1000, name='delta_rH', continuous_update=False),\n",
    "         Tin=FloatSlider(value=250, min=200, max=300, step=10, name='Tin', continuous_update=False),\n",
    "         Tw=FloatSlider(value=320, min=300, max=350, step=10, name='Tw', continuous_update=False))"
   ]
  },
  {
   "cell_type": "markdown",
   "metadata": {},
   "source": [
    "$$\\frac{d[N2O5]}{dt}= -2Are^{\\frac{-E_{A}}{RT}}[N2O5] + \\frac{Q}{V}({[N2O5]}_{in} - [N2O5])$$\n",
    "$$\\frac{d[N2O4]}{dt}= 2Are^{\\frac{-E_{A}}{RT}}[N2O5]+ \\frac{Q}{V}({[N2O4]}_{in} - [N2O4])$$\n",
    "$$\\frac{d[T]}{dt}= \\frac{Q \\rho C_{p}(T{in}-T)+UA(T_{w}-T)-VAre^{\\frac{-E_{A}}{RT}}[N2O5]\\Delta_{r}H}{V \\rho C_{p}}$$"
   ]
  },
  {
   "cell_type": "markdown",
   "metadata": {},
   "source": [
    "# sensitiviteit"
   ]
  },
  {
   "cell_type": "code",
   "execution_count": null,
   "metadata": {},
   "outputs": [],
   "source": [
    "interact(general_functions.sensitiviteit,\n",
    "    tijdstappen=fixed(np.arange(0, 300, 1)), # tijdstappen\n",
    "    init=fixed([ 0, 0, 310]), # initiële condities\n",
    "    varnames=fixed(['N2O5','N2O4','T']), # namen variabelen\n",
    "    f=fixed(functie_afgeleiden), # naam functie afgeleiden\n",
    "    parameternaam=ToggleButtons(options=['Ar', 'Ea', 'Q', 'V', 'rho', 'Cp',\n",
    "                                        'U', 'A', 'delta_rH', 'N2O5_in',\n",
    "                                        'N2O4_in', 'Tin', 'Tw']),\n",
    "    log_perturbatie = IntSlider(value=-4, min=-15, max=-1, step=1, continuous_update=False),\n",
    "    soort=ToggleButtons(options=[\n",
    "            'absolute sensitiviteit', 'relatieve sensitiviteit parameter',\n",
    "            'relatieve sensitiviteit variabele','relatieve totale sensitiviteit']),\n",
    "    # vanaf hier: functie specifieke parameters\n",
    "    Ar=fixed(1.54e13), Ea=fixed(100320), Q=fixed(0.5), V=fixed(100), rho=fixed(0.79),\n",
    "    Cp=fixed(52.82), U=fixed(250), A=fixed(2), delta_rH=fixed(-6000),\n",
    "    N2O5_in=fixed(0.02), N2O4_in=fixed(0), Tin=fixed(250), Tw=fixed(330))"
   ]
  },
  {
   "cell_type": "code",
   "execution_count": null,
   "metadata": {},
   "outputs": [],
   "source": []
  }
 ],
 "metadata": {
  "anaconda-cloud": {},
  "kernelspec": {
   "display_name": "Python [conda env:py35]",
   "language": "python",
   "name": "conda-env-py35-py"
  },
  "language_info": {
   "codemirror_mode": {
    "name": "ipython",
    "version": 3
   },
   "file_extension": ".py",
   "mimetype": "text/x-python",
   "name": "python",
   "nbconvert_exporter": "python",
   "pygments_lexer": "ipython3",
   "version": "3.5.1"
  }
 },
 "nbformat": 4,
 "nbformat_minor": 1
}
