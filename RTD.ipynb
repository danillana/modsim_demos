{
 "cells": [
  {
   "cell_type": "markdown",
   "metadata": {},
   "source": [
    "## Model simuleren: RTD model"
   ]
  },
  {
   "cell_type": "markdown",
   "metadata": {},
   "source": [
    "    \n",
    "$f:= (1 - e^{-(t-\\tau_0)/\\beta}), \\forall t \\geq \\tau_0$ \n",
    "   "
   ]
  },
  {
   "cell_type": "code",
   "execution_count": null,
   "metadata": {
    "ExecuteTime": {
     "end_time": "2019-04-17T12:55:13.293369Z",
     "start_time": "2019-04-17T12:55:12.710828Z"
    }
   },
   "outputs": [],
   "source": [
    "%matplotlib inline\n",
    "\n",
    "# Importeren van functionaliteiten\n",
    "import numpy as np\n",
    "import scipy as sp\n",
    "import pandas as pd\n",
    "import math\n",
    "from IPython.display import Image\n",
    "from ipywidgets import interact, fixed, FloatSlider, IntSlider, ToggleButtons\n",
    "\n",
    "%load_ext autoreload\n",
    "%autoreload 1\n",
    "import sys\n",
    "import os\n",
    "sys.path.append(\"functions\")\n",
    "import general_functions"
   ]
  },
  {
   "cell_type": "code",
   "execution_count": null,
   "metadata": {
    "ExecuteTime": {
     "end_time": "2019-04-17T12:55:13.301876Z",
     "start_time": "2019-04-17T12:55:13.295906Z"
    }
   },
   "outputs": [],
   "source": [
    "%aimport rtd\n",
    "model = rtd.expon_shifted"
   ]
  },
  {
   "cell_type": "markdown",
   "metadata": {},
   "source": [
    "## Model simuleren"
   ]
  },
  {
   "cell_type": "code",
   "execution_count": null,
   "metadata": {
    "ExecuteTime": {
     "end_time": "2019-04-17T12:55:13.632713Z",
     "start_time": "2019-04-17T12:55:13.304310Z"
    }
   },
   "outputs": [],
   "source": [
    "df = rtd.calculate_rtd(\n",
    "    np.arange(0, 100, 1), # tijdstappen\n",
    "    model,\n",
    "    returnDataFrame=True, plotresults=True,\n",
    "    # vanaf hier: functie specifieke parameters\n",
    "    beta=10, tau_0=30)"
   ]
  },
  {
   "cell_type": "markdown",
   "metadata": {},
   "source": [
    "## Impact parameters"
   ]
  },
  {
   "cell_type": "code",
   "execution_count": null,
   "metadata": {
    "ExecuteTime": {
     "end_time": "2019-04-17T12:55:14.041139Z",
     "start_time": "2019-04-17T12:55:13.638374Z"
    }
   },
   "outputs": [],
   "source": [
    "interact(rtd.calculate_rtd,\n",
    "         tijdstappen=fixed(np.arange(0, 100, 1)), # tijdstappen\n",
    "         model=fixed(model),\n",
    "         returnDataFrame=fixed(False), plotresults=fixed(True),\n",
    "         # vanaf hier: functie specifieke parameters\n",
    "         beta=FloatSlider(value=10, min=0.1, max=30, step=0.1, description='beta', continuous_update=False),\n",
    "         tau_0=FloatSlider(value=30, min=5, max=80, step=1, description='tau_0', continuous_update=False),\n",
    "         )"
   ]
  },
  {
   "cell_type": "markdown",
   "metadata": {},
   "source": [
    "# Sensitiviteit"
   ]
  },
  {
   "cell_type": "code",
   "execution_count": null,
   "metadata": {
    "ExecuteTime": {
     "end_time": "2019-04-17T12:55:14.396455Z",
     "start_time": "2019-04-17T12:55:14.044324Z"
    }
   },
   "outputs": [],
   "source": [
    "interact(rtd.sensitiviteit,\n",
    "    tijdstappen=fixed(np.arange(0, 100, 1)), # tijdstappen\n",
    "    model=fixed(model), # initiële condities\n",
    "    parameternaam=ToggleButtons(options=['beta', 'tau_0']),\n",
    "    log_perturbatie = IntSlider(value=-4, min=-15, max=-1, step=1, continuous_update=False),\n",
    "    soort=ToggleButtons(options=[\n",
    "            'absolute sensitiviteit', 'relatieve sensitiviteit parameter',\n",
    "            'relatieve sensitiviteit variabele','relatieve totale sensitiviteit']),\n",
    "    # vanaf hier: functie specifieke parameters\n",
    "    beta=fixed(20), tau_0=fixed(10))"
   ]
  },
  {
   "cell_type": "markdown",
   "metadata": {},
   "source": [
    "# Calibratie"
   ]
  },
  {
   "cell_type": "code",
   "execution_count": null,
   "metadata": {
    "ExecuteTime": {
     "end_time": "2019-04-17T12:55:14.417735Z",
     "start_time": "2019-04-17T12:55:14.405293Z"
    }
   },
   "outputs": [],
   "source": [
    "df = pd.read_csv(\"./data/rtd_data_cpb_1_norm.csv\", index_col=0)\n",
    "time = df.index.values"
   ]
  },
  {
   "cell_type": "code",
   "execution_count": null,
   "metadata": {
    "ExecuteTime": {
     "end_time": "2019-04-17T12:55:14.444225Z",
     "start_time": "2019-04-17T12:55:14.430842Z"
    }
   },
   "outputs": [],
   "source": [
    "def sim_model(args):   \n",
    "    beta, tau_0 = args\n",
    "    sim = rtd.calculate_rtd(\n",
    "        time, # tijdstappen\n",
    "        model,\n",
    "        returnDataFrame=True, plotresults=False,\n",
    "        # vanaf hier: functie specifieke parameters\n",
    "        beta=beta, tau_0=tau_0)\n",
    "    return sim\n",
    "\n",
    "def optimizer(args, obj_func=general_functions.sse, data=df):\n",
    "    sim = sim_model(args)\n",
    "    return obj_func(sim, data)"
   ]
  },
  {
   "cell_type": "code",
   "execution_count": null,
   "metadata": {
    "ExecuteTime": {
     "end_time": "2019-04-17T12:55:15.777591Z",
     "start_time": "2019-04-17T12:55:14.447863Z"
    },
    "scrolled": false
   },
   "outputs": [],
   "source": [
    "x0 = [600, 600]\n",
    "parameters, results = general_functions.track_calib(optimizer,\n",
    "    x0, param_names=['beta', 'tau_0'], method='Nelder-Mead')\n",
    "interact(rtd.plot_calib,\n",
    "         parameters=fixed(parameters), results=fixed(results),\n",
    "         i=IntSlider(value=0, min=0, max=parameters.shape[0]-1, step=1, continuous_update=False),\n",
    "         data=fixed(df), sim_model=fixed(sim_model))\n",
    "#general_functions.plot_calib(parameters, results, parameters.shape[0]-1, df_noisy)"
   ]
  },
  {
   "cell_type": "code",
   "execution_count": null,
   "metadata": {
    "ExecuteTime": {
     "end_time": "2019-04-17T12:55:16.736297Z",
     "start_time": "2019-04-17T12:55:15.782152Z"
    }
   },
   "outputs": [],
   "source": [
    "rtd.plot_contour_rtd(optimizer)"
   ]
  }
 ],
 "metadata": {
  "anaconda-cloud": {},
  "kernelspec": {
   "display_name": "py35",
   "language": "python",
   "name": "py35"
  },
  "language_info": {
   "codemirror_mode": {
    "name": "ipython",
    "version": 3
   },
   "file_extension": ".py",
   "mimetype": "text/x-python",
   "name": "python",
   "nbconvert_exporter": "python",
   "pygments_lexer": "ipython3",
   "version": "3.5.1"
  },
  "varInspector": {
   "cols": {
    "lenName": 16,
    "lenType": 16,
    "lenVar": 40
   },
   "kernels_config": {
    "python": {
     "delete_cmd_postfix": "",
     "delete_cmd_prefix": "del ",
     "library": "var_list.py",
     "varRefreshCmd": "print(var_dic_list())"
    },
    "r": {
     "delete_cmd_postfix": ") ",
     "delete_cmd_prefix": "rm(",
     "library": "var_list.r",
     "varRefreshCmd": "cat(var_dic_list()) "
    }
   },
   "types_to_exclude": [
    "module",
    "function",
    "builtin_function_or_method",
    "instance",
    "_Feature"
   ],
   "window_display": true
  },
  "widgets": {
   "state": {
    "49fe4396f2b44141b31f5fb27f2298f1": {
     "views": [
      {
       "cell_index": 18
      }
     ]
    },
    "61593e207b0f4eba8a606e305d47c673": {
     "views": [
      {
       "cell_index": 24
      }
     ]
    },
    "a038802db23d465da7c6af922b869868": {
     "views": [
      {
       "cell_index": 9
      }
     ]
    },
    "b4befd08697643898472ad7369d8b0a1": {
     "views": [
      {
       "cell_index": 15
      }
     ]
    },
    "cfd0d3fcc11d4a2ca1645a4c3f23b11a": {
     "views": [
      {
       "cell_index": 12
      }
     ]
    }
   },
   "version": "1.2.0"
  }
 },
 "nbformat": 4,
 "nbformat_minor": 1
}
